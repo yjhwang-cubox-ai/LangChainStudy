{
 "cells": [
  {
   "cell_type": "markdown",
   "metadata": {},
   "source": [
    "1. 문서의 내용을 읽는다.\n",
    "2. 문서를 쪼갠다.\n",
    "    - 토큰수 초과로 답변을 생성하지 못할 수 있고,\n",
    "    - 문서가 길면 (인풋이 길면) 답변 생성이 오래 걸림\n",
    "3. 임베딩 -> 벡터 데이터베이스에 저장\n",
    "4. 질문이 있을 때, 벡터 데이터베이스에 유사도 검색\n",
    "5. 유사도 검색으로 가져온 문서를 LLM에 질문과 같이 전달"
   ]
  },
  {
   "cell_type": "code",
   "execution_count": 1,
   "metadata": {},
   "outputs": [],
   "source": [
    "from langchain_community.document_loaders import Docx2txtLoader\n",
    "from langchain_text_splitters import RecursiveCharacterTextSplitter\n",
    "\n",
    "text_splitter = RecursiveCharacterTextSplitter(\n",
    "    # Set a really small chunk size, just to show.\n",
    "    chunk_size=1500, # 하나의 chunk 가 가질수 있는 토큰 수 \n",
    "    chunk_overlap=200, # 겹치는 부분 -> 유사도 검색을 할 때 우리가 원하는 문서를 가지고 오는 확률을 높이기 위함함\n",
    ")\n",
    "\n",
    "loader = Docx2txtLoader(\"../tax_with_markdown.docx\")\n",
    "document_list = loader.load_and_split(text_splitter=text_splitter)"
   ]
  },
  {
   "cell_type": "code",
   "execution_count": 2,
   "metadata": {},
   "outputs": [
    {
     "data": {
      "text/plain": [
       "Document(metadata={'source': '../tax_with_markdown.docx'}, page_content='제55조(세율) ①거주자의 종합소득에 대한 소득세는 해당 연도의 종합소득과세표준에 다음의 세율을 적용하여 계산한 금액(이하 “종합소득산출세액”이라 한다)을 그 세액으로 한다. <개정 2014. 1. 1., 2016. 12. 20., 2017. 12. 19., 2020. 12. 29., 2022. 12. 31.>\\n\\n| 종합소득 과세표준          | 세율                                         |\\n\\n|-------------------|--------------------------------------------|\\n\\n| 1,400만원 이하     | 과세표준의 6퍼센트                             |\\n\\n| 1,400만원 초과     5,000만원 이하     | 84만원 + (1,400만원을 초과하는 금액의 15퍼센트)  |\\n\\n| 5,000만원 초과   8,800만원 이하     | 624만원 + (5,000만원을 초과하는 금액의 24퍼센트) |\\n\\n| 8,800만원 초과 1억5천만원 이하    | 3,706만원 + (8,800만원을 초과하는 금액의 35퍼센트)|\\n\\n| 1억5천만원 초과 3억원 이하         | 3,706만원 + (1억5천만원을 초과하는 금액의 38퍼센트)|\\n\\n| 3억원 초과    5억원 이하         | 9,406만원 + (3억원을 초과하는 금액의 38퍼센트)   |\\n\\n| 5억원 초과      10억원 이하        | 1억 7,406만원 + (5억원을 초과하는 금액의 42퍼센트)|\\n\\n| 10억원 초과        | 3억 8,406만원 + (10억원을 초과하는 금액의 45퍼센트)|\\n\\n\\n\\n\\n\\n② 거주자의 퇴직소득에 대한 소득세는 다음 각 호의 순서에 따라 계산한 금액(이하 “퇴직소득 산출세액”이라 한다)으로 한다.<개정 2013. 1. 1., 2014. 12. 23.>\\n\\n1. 해당 과세기간의 퇴직소득과세표준에 제1항의 세율을 적용하여 계산한 금액\\n\\n2. 제1호의 금액을 12로 나눈 금액에 근속연수를 곱한 금액\\n\\n3. 삭제<2014. 12. 23.>\\n\\n[전문개정 2009. 12. 31.]\\n\\n\\n\\n제2관 세액공제 <개정 2009. 12. 31.>\\n\\n\\n\\n제56조(배당세액공제) ① 거주자의 종합소득금액에 제17조제3항 각 호 외의 부분 단서가 적용되는 배당소득금액이 합산되어 있는 경우에는 같은 항 각 호 외의 부분 단서에 따라 해당 과세기간의 총수입금액에 더한 금액에 해당하는 금액을 종합소득 산출세액에서 공제한다. <개정 2009. 12. 31.>\\n\\n② 제1항에 따른 공제를 “배당세액공제”라 한다.<개정 2009. 12. 31.>\\n\\n③ 삭제<2003. 12. 30.>\\n\\n④ 제1항을 적용할 때 배당세액공제의 대상이 되는 배당소득금액은 제14조제2항의 종합소득과세표준에 포함된 배당소득금액으로서 이자소득등의 종합과세기준금액을 초과하는 것으로 한다.<개정 2009. 12. 31.>\\n\\n⑤ 삭제<2006. 12. 30.>')"
      ]
     },
     "execution_count": 2,
     "metadata": {},
     "output_type": "execute_result"
    }
   ],
   "source": [
    "document_list[52]"
   ]
  },
  {
   "cell_type": "code",
   "execution_count": 3,
   "metadata": {},
   "outputs": [],
   "source": [
    "from langchain_openai import OpenAIEmbeddings\n",
    "from dotenv import load_dotenv\n",
    "\n",
    "load_dotenv()\n",
    "\n",
    "embedding = OpenAIEmbeddings(model=\"text-embedding-3-large\")\n",
    "# from dotenv import load_dotenv\n",
    "# from langchain_upstage import UpstageEmbeddings\n",
    "\n",
    "# load_dotenv()\n",
    "\n",
    "# embedding = UpstageEmbeddings(model='solar-embedding-1-large')"
   ]
  },
  {
   "cell_type": "code",
   "execution_count": 4,
   "metadata": {},
   "outputs": [
    {
     "name": "stderr",
     "output_type": "stream",
     "text": [
      "/data/anaconda3/envs/langchain2/lib/python3.10/site-packages/pinecone/data/index.py:1: TqdmWarning: IProgress not found. Please update jupyter and ipywidgets. See https://ipywidgets.readthedocs.io/en/stable/user_install.html\n",
      "  from tqdm.autonotebook import tqdm\n"
     ]
    }
   ],
   "source": [
    "import os\n",
    "# from pinecone import Pinecone\n",
    "from langchain_pinecone import PineconeVectorStore\n",
    "\n",
    "index_name = 'tax-markdown-index'\n",
    "pinecone_api_key = os.getenv(\"PINECONE_API_KEY\")\n",
    "# pc = Pinecone(api_key=pinecone_api_key)\n",
    "\n",
    "# index = pc.Index(index_name)\n",
    "\n",
    "# database = PineconeVectorStore.from_documents(documents=document_list, embedding=embedding, index_name=index_name)\n",
    "loaded_database = PineconeVectorStore(index_name=index_name, embedding=embedding)\n"
   ]
  },
  {
   "cell_type": "code",
   "execution_count": 22,
   "metadata": {},
   "outputs": [],
   "source": [
    "from langchain_openai import ChatOpenAI\n",
    "\n",
    "llm = ChatOpenAI(model='gpt-4o-mini')"
   ]
  },
  {
   "cell_type": "code",
   "execution_count": 6,
   "metadata": {},
   "outputs": [
    {
     "name": "stderr",
     "output_type": "stream",
     "text": [
      "/data/anaconda3/envs/langchain2/lib/python3.10/site-packages/langsmith/client.py:253: LangSmithMissingAPIKeyWarning: API key must be provided when using hosted LangSmith API\n",
      "  warnings.warn(\n"
     ]
    }
   ],
   "source": [
    "from langchain import hub\n",
    "\n",
    "prompt = hub.pull(\"rlm/rag-prompt\")"
   ]
  },
  {
   "cell_type": "code",
   "execution_count": 9,
   "metadata": {},
   "outputs": [
    {
     "data": {
      "text/plain": [
       "[Document(id='3a8b315f-db9c-4004-9449-16bd1a55131f', metadata={'source': '../tax_with_markdown.docx'}, page_content='나. 그 밖의 배당소득에 대해서는 100분의 14\\n\\n3. 원천징수대상 사업소득에 대해서는 100분의 3. 다만, 외국인 직업운동가가 한국표준산업분류에 따른 스포츠 클럽 운영업 중 프로스포츠구단과의 계약(계약기간이 3년 이하인 경우로 한정한다)에 따라 용역을 제공하고 받는 소득에 대해서는 100분의 20으로 한다.\\n\\n4. 근로소득에 대해서는 기본세율. 다만, 일용근로자의 근로소득에 대해서는 100분의 6으로 한다.\\n\\n5. 공적연금소득에 대해서는 기본세율\\n\\n5의2.제20조의3제1항제2호나목 및 다목에 따른 연금계좌 납입액이나 운용실적에 따라 증가된 금액을 연금수령한 연금소득에 대해서는 다음 각 목의 구분에 따른 세율. 이 경우 각 목의 요건을 동시에 충족하는 때에는 낮은 세율을 적용한다.\\n\\n가. 연금소득자의 나이에 따른 다음의 세율\\n\\n\\n\\n나. 삭제<2014. 12. 23.>\\n\\n다. 사망할 때까지 연금수령하는 대통령령으로 정하는 종신계약에 따라 받는 연금소득에 대해서는 100분의 4\\n\\n5의3. 제20조의3제1항제2호가목에 따라 퇴직소득을 연금수령하는 연금소득에 대해서는 다음 각 목의 구분에 따른 세율. 이 경우 연금 실제 수령연차 및 연금외수령 원천징수세율의 구체적인 내용은 대통령령으로 정한다.\\n\\n가. 연금 실제 수령연차가 10년 이하인 경우: 연금외수령 원천징수세율의 100분의 70\\n\\n나. 연금 실제 수령연차가 10년을 초과하는 경우: 연금외수령 원천징수세율의 100분의 60\\n\\n6. 기타소득에 대해서는 다음에 규정하는 세율. 다만, 제8호를 적용받는 경우는 제외한다.\\n\\n가. 제14조제3항제8호라목 및 마목에 해당하는 소득금액이 3억원을 초과하는 경우 그 초과하는 분에 대해서는 100분의 30\\n\\n나. 제21조제1항제18호 및 제21호에 따른 기타소득에 대해서는 100분의 15\\n\\n다. 삭제<2014. 12. 23.>\\n\\n라. 그 밖의 기타소득에 대해서는 100분의 20\\n\\n7. 퇴직소득에 대해서는 기본세율\\n\\n8. 대통령령으로 정하는 봉사료에 대해서는 100분의 5\\n\\n9. 대통령령으로 정하는 금융투자소득에 대해서는 100분의 20\\n\\n② 제1항에도 불구하고 다음 각 호의 이자소득 및 배당소득에 대해서는 다음 각 호에서 정하는 세율을 원천징수세율로 한다.<개정 2013. 1. 1., 2017. 12. 19., 2018. 12. 31., 2022. 12. 31.>\\n\\n1. 「민사집행법」 제113조 및 같은 법 제142조에 따라 법원에 납부한 보증금 및 경락대금에서 발생하는 이자소득에 대해서는 100분의 14\\n\\n2. 대통령령으로 정하는 실지명의가 확인되지 아니하는 소득에 대해서는 100분의 45. 다만, 「금융실명거래 및 비밀보장에 관한 법률」 제5조가 적용되는 경우에는 같은 조에서 정한 세율로 한다.'),\n",
       " Document(id='71119f94-75f8-409f-a2f6-02af6f1744f0', metadata={'source': '../tax_with_markdown.docx'}, page_content='1. 「공익신탁법」에 따른 공익신탁의 이익\\n\\n2. 사업소득 중 다음 각 목의 어느 하나에 해당하는 소득\\n\\n가. 논ㆍ밭을 작물 생산에 이용하게 함으로써 발생하는 소득\\n\\n나. 1개의 주택을 소유하는 자의 주택임대소득(제99조에 따른 기준시가가 12억원을 초과하는 주택 및 국외에 소재하는 주택의 임대소득은 제외한다) 또는 해당 과세기간에 대통령령으로 정하는 총수입금액의 합계액이 2천만원 이하인 자의 주택임대소득(2018년 12월 31일 이전에 끝나는 과세기간까지 발생하는 소득으로 한정한다). 이 경우 주택 수의 계산 및 주택임대소득의 산정 등 필요한 사항은 대통령령으로 정한다.\\n\\n다. 대통령령으로 정하는 농어가부업소득\\n\\n라. 대통령령으로 정하는 전통주의 제조에서 발생하는 소득\\n\\n마. 조림기간 5년 이상인 임지(林地)의 임목(林木)의 벌채 또는 양도로 발생하는 소득으로서 연 600만원 이하의 금액. 이 경우 조림기간 및 세액의 계산 등 필요한 사항은 대통령령으로 정한다.\\n\\n바. 대통령령으로 정하는 작물재배업에서 발생하는 소득\\n\\n사. 대통령령으로 정하는 어로어업 또는 양식어업에서 발생하는 소득\\n\\n3. 근로소득과 퇴직소득 중 다음 각 목의 어느 하나에 해당하는 소득\\n\\n가. 대통령령으로 정하는 복무 중인 병(兵)이 받는 급여\\n\\n나. 법률에 따라 동원된 사람이 그 동원 직장에서 받는 급여\\n\\n다. 「산업재해보상보험법」에 따라 수급권자가 받는 요양급여, 휴업급여, 장해급여, 간병급여, 유족급여, 유족특별급여, 장해특별급여, 장의비 또는 근로의 제공으로 인한 부상ㆍ질병ㆍ사망과 관련하여 근로자나 그 유족이 받는 배상ㆍ보상 또는 위자(慰藉)의 성질이 있는 급여\\n\\n라. 「근로기준법」 또는 「선원법」에 따라 근로자ㆍ선원 및 그 유족이 받는 요양보상금, 휴업보상금, 상병보상금(傷病補償金), 일시보상금, 장해보상금, 유족보상금, 행방불명보상금, 소지품 유실보상금, 장의비 및 장제비\\n\\n마. 「고용보험법」에 따라 받는 실업급여, 육아휴직 급여, 육아기 근로시간 단축 급여, 출산전후휴가 급여등, 「제대군인 지원에 관한 법률」에 따라 받는 전직지원금, 「국가공무원법」ㆍ「지방공무원법」에 따른 공무원 또는 「사립학교교직원 연금법」ㆍ「별정우체국법」을 적용받는 사람이 관련 법령에 따라 받는 육아휴직수당(「사립학교법」 제70조의2에 따라 임명된 사무직원이 학교의 정관 또는 규칙에 따라 지급받는 육아휴직수당으로서 대통령령으로 정하는 금액 이하의 것을 포함한다)\\n\\n바. 「국민연금법」에 따라 받는 반환일시금(사망으로 받는 것만 해당한다) 및 사망일시금'),\n",
       " Document(id='36e26e6b-13d7-4977-831e-89677893d7f4', metadata={'source': '../tax_with_markdown.docx'}, page_content='차. 외국정부(외국의 지방자치단체와 연방국가인 외국의 지방정부를 포함한다. 이하 같다) 또는 대통령령으로 정하는 국제기관에서 근무하는 사람으로서 대통령령으로 정하는 사람이 받는 급여. 다만, 그 외국정부가 그 나라에서 근무하는 우리나라 공무원의 급여에 대하여 소득세를 과세하지 아니하는 경우만 해당한다.\\n\\n카. 「국가유공자 등 예우 및 지원에 관한 법률」 또는 「보훈보상대상자 지원에 관한 법률」에 따라 받는 보훈급여금ㆍ학습보조비\\n\\n타. 「전직대통령 예우에 관한 법률」에 따라 받는 연금\\n\\n파. 작전임무를 수행하기 위하여 외국에 주둔 중인 군인ㆍ군무원이 받는 급여\\n\\n하. 종군한 군인ㆍ군무원이 전사(전상으로 인한 사망을 포함한다. 이하 같다)한 경우 그 전사한 날이 속하는 과세기간의 급여\\n\\n거. 국외 또는 「남북교류협력에 관한 법률」에 따른 북한지역에서 근로를 제공하고 받는 대통령령으로 정하는 급여\\n\\n너. 「국민건강보험법」, 「고용보험법」 또는 「노인장기요양보험법」에 따라 국가, 지방자치단체 또는 사용자가 부담하는 보험료\\n\\n더. 생산직 및 그 관련 직에 종사하는 근로자로서 급여 수준 및 직종 등을 고려하여 대통령령으로 정하는 근로자가 대통령령으로 정하는 연장근로ㆍ야간근로 또는 휴일근로를 하여 받는 급여\\n\\n러. 근로자가 사내급식이나 이와 유사한 방법으로 제공받는 식사 기타 음식물 또는 근로자(식사 기타 음식물을 제공받지 아니하는 자에 한정한다)가 받는 월 20만원 이하의 식사대\\n\\n머. 근로자 또는 그 배우자의 출산이나 6세 이하(해당 과세기간 개시일을 기준으로 판단한다) 자녀의 보육과 관련하여 사용자로부터 받는 급여로서 월 20만원 이내의 금액\\n\\n버. 「국군포로의 송환 및 대우 등에 관한 법률」에 따른 국군포로가 받는 보수 및 퇴직일시금\\n\\n서. 「교육기본법」 제28조제1항에 따라 받는 장학금 중 대학생이 근로를 대가로 지급받는 장학금(「고등교육법」 제2조제1호부터 제4호까지의 규정에 따른 대학에 재학하는 대학생에 한정한다)\\n\\n어. 「발명진흥법」 제2조제2호에 따른 직무발명으로 받는 다음의 보상금(이하 “직무발명보상금”이라 한다)으로서 대통령령으로 정하는 금액\\n\\n\\u3000\\u3000\\u30001) 「발명진흥법」 제2조제2호에 따른 종업원등(이하 이 조, 제20조 및 제21조에서 “종업원등”이라 한다)이 같은 호에 따른 사용자등(이하 이 조에서 “사용자등”이라 한다)으로부터 받는 보상금. 다만, 보상금을 지급한 사용자등과 대통령령으로 정하는 특수관계에 있는 자가 받는 보상금은 제외한다.\\n\\n\\u3000\\u3000\\u30002) 대학의 교직원 또는 대학과 고용관계가 있는 학생이 소속 대학에 설치된 「산업교육진흥 및 산학연협력촉진에 관한 법률」 제25조에 따른 산학협력단(이하 이 조에서 “산학협력단”이라 한다)으로부터 같은 법 제32조제1항제4호에 따라 받는 보상금\\n\\n저. 대통령령으로 정하는 복리후생적 성질의 급여\\n\\n4. 연금소득 중 다음 각 목의 어느 하나에 해당하는 소득'),\n",
       " Document(id='048673a5-b635-4272-ad21-032ee2cc4668', metadata={'source': '../tax_with_markdown.docx'}, page_content='소득세법\\n\\n소득세법\\n\\n[시행 2024. 1. 1.] [법률 제19933호, 2023. 12. 31., 일부개정]\\n\\n기획재정부(소득세제과(사업소득, 기타소득)) 044-215-4217\\n\\n기획재정부(소득세제과(근로소득)) 044-215-4216\\n\\n기획재정부(재산세제과(양도소득세)) 044-215-4314\\n\\n기획재정부(금융세제과(이자소득, 배당소득)) 044-215-4236\\n\\n\\n\\n\\t제1장 총칙 <개정 2009. 12. 31.>\\t\\n\\n\\n\\n제1조(목적) 이 법은 개인의 소득에 대하여 소득의 성격과 납세자의 부담능력 등에 따라 적정하게 과세함으로써 조세부담의 형평을 도모하고 재정수입의 원활한 조달에 이바지함을 목적으로 한다.\\n\\n[본조신설 2009. 12. 31.]\\n\\n[종전 제1조는 제2조로 이동 <2009. 12. 31.>]\\n\\n\\n\\n제1조의2(정의) ① 이 법에서 사용하는 용어의 뜻은 다음과 같다. <개정 2010. 12. 27., 2014. 12. 23., 2018. 12. 31.>\\n\\n1. “거주자”란 국내에 주소를 두거나 183일 이상의 거소(居所)를 둔 개인을 말한다.\\n\\n2. “비거주자”란 거주자가 아닌 개인을 말한다.\\n\\n3. “내국법인”이란 「법인세법」 제2조제1호에 따른 내국법인을 말한다.\\n\\n4. “외국법인”이란 「법인세법」 제2조제3호에 따른 외국법인을 말한다.\\n\\n5. “사업자”란 사업소득이 있는 거주자를 말한다.\\n\\n② 제1항에 따른 주소ㆍ거소와 거주자ㆍ비거주자의 구분은 대통령령으로 정한다.\\n\\n[본조신설 2009. 12. 31.]\\n\\n\\n\\n제2조(납세의무) ① 다음 각 호의 어느 하나에 해당하는 개인은 이 법에 따라 각자의 소득에 대한 소득세를 납부할 의무를 진다.\\n\\n1. 거주자\\n\\n2. 비거주자로서 국내원천소득(國內源泉所得)이 있는 개인\\n\\n② 다음 각 호의 어느 하나에 해당하는 자는 이 법에 따라 원천징수한 소득세를 납부할 의무를 진다.\\n\\n1. 거주자\\n\\n2. 비거주자\\n\\n3. 내국법인\\n\\n4. 외국법인의 국내지점 또는 국내영업소(출장소, 그 밖에 이에 준하는 것을 포함한다. 이하 같다)\\n\\n5. 그 밖에 이 법에서 정하는 원천징수의무자\\n\\n③ 「국세기본법」 제13조제1항에 따른 법인 아닌 단체 중 같은 조 제4항에 따른 법인으로 보는 단체(이하 “법인으로 보는 단체”라 한다) 외의 법인 아닌 단체는 국내에 주사무소 또는 사업의 실질적 관리장소를 둔 경우에는 1거주자로, 그 밖의 경우에는 1비거주자로 보아 이 법을 적용한다. 다만, 다음 각 호의 어느 하나에 해당하는 경우에는 소득구분에 따라 해당 단체의 각 구성원별로 이 법 또는 「법인세법」에 따라 소득에 대한 소득세 또는 법인세[해당 구성원이 「법인세법」에 따른 법인(법인으로 보는 단체를 포함한다)인 경우로 한정한다. 이하 이 조에서 같다]를 납부할 의무를 진다.<개정 2010. 12. 27., 2013. 1. 1., 2018. 12. 31.>\\n\\n1. 구성원 간 이익의 분배비율이 정하여져 있고 해당 구성원별로 이익의 분배비율이 확인되는 경우')]"
      ]
     },
     "execution_count": 9,
     "metadata": {},
     "output_type": "execute_result"
    }
   ],
   "source": [
    "query = \"직장인 연봉이 5000만원이면 소득세가 얼마인가요?\"\n",
    "# query = \"연봉 5000만원인 거주자의 소득세는?\"\n",
    "# retriever=loaded_database.as_retriever(search_kwargs={\"k\": 7})\n",
    "retriever=loaded_database.as_retriever()\n",
    "retriever.invoke(query)"
   ]
  },
  {
   "cell_type": "code",
   "execution_count": 10,
   "metadata": {},
   "outputs": [],
   "source": [
    "\n",
    "from langchain.chains import RetrievalQA\n",
    "qa_chain = RetrievalQA.from_chain_type(\n",
    "    llm,\n",
    "    retriever=retriever,\n",
    "    chain_type_kwargs={\"prompt\":prompt}\n",
    ")\n",
    "#query -> 직장인 -> 거주자 chain 추가가\n",
    "ai_message = qa_chain({\"query\":query})"
   ]
  },
  {
   "cell_type": "code",
   "execution_count": 43,
   "metadata": {},
   "outputs": [],
   "source": [
    "query = '연봉 5000만원인 직장인의 소득세는 얼마인가요?'"
   ]
  },
  {
   "cell_type": "code",
   "execution_count": 44,
   "metadata": {},
   "outputs": [],
   "source": [
    "from langchain_core.output_parsers import StrOutputParser\n",
    "from langchain_core.prompts import ChatPromptTemplate\n",
    "\n",
    "dictionary = [\"사람과 관련된 표현현 -> 거주자\"]\n",
    "\n",
    "prompt = ChatPromptTemplate.from_template(f\"\"\"\n",
    "    사용자의 질문을 보고, 우리의 사전을 참고 해서 사용자의 질문을 변경해주세요.\n",
    "    만약 변경할 필요가 없다고 판단된다면, 사용자의 질문을 변경하지 않아도 되고, 질문을 그대로 반환해주세요.\n",
    "    사전: {dictionary}\n",
    "    \n",
    "    질문: {{question}}\n",
    "\"\"\")\n",
    "\n",
    "dictionary_chain = prompt | llm | StrOutputParser()"
   ]
  },
  {
   "cell_type": "code",
   "execution_count": 45,
   "metadata": {},
   "outputs": [],
   "source": [
    "tax_chain = {\"query\":dictionary_chain} | qa_chain"
   ]
  },
  {
   "cell_type": "code",
   "execution_count": null,
   "metadata": {},
   "outputs": [],
   "source": [
    "ai_response = tax_chain.invoke({\"question\":query})"
   ]
  },
  {
   "cell_type": "markdown",
   "metadata": {},
   "source": []
  }
 ],
 "metadata": {
  "kernelspec": {
   "display_name": "langchain2",
   "language": "python",
   "name": "python3"
  },
  "language_info": {
   "codemirror_mode": {
    "name": "ipython",
    "version": 3
   },
   "file_extension": ".py",
   "mimetype": "text/x-python",
   "name": "python",
   "nbconvert_exporter": "python",
   "pygments_lexer": "ipython3",
   "version": "3.10.16"
  }
 },
 "nbformat": 4,
 "nbformat_minor": 2
}
